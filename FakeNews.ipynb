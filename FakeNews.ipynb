{
 "cells": [
  {
   "cell_type": "markdown",
   "metadata": {
    "colab_type": "text",
    "id": "0RkjtxHIEdbn"
   },
   "source": [
    "### DO NOT RUN BELOW CELL IF YOU ARE RUNNING IT IN LOCAL MACHINE"
   ]
  },
  {
   "cell_type": "code",
   "execution_count": 1,
   "metadata": {
    "colab": {
     "base_uri": "https://localhost:8080/",
     "height": 140
    },
    "colab_type": "code",
    "executionInfo": {
     "elapsed": 7488,
     "status": "ok",
     "timestamp": 1554371479340,
     "user": {
      "displayName": "syedshahzaib790",
      "photoUrl": "",
      "userId": "11486457633474928120"
     },
     "user_tz": -300
    },
    "id": "Bh63f9eoB2qP",
    "outputId": "495642e7-59ad-4b21-e002-453ede4e3e40"
   },
   "outputs": [
    {
     "name": "stdout",
     "output_type": "stream",
     "text": [
      "Drive already mounted at /content/gdrive; to attempt to forcibly remount, call drive.mount(\"/content/gdrive\", force_remount=True).\n",
      "1preprocessed_data.csv\t      7data_with_tprox_features_final.csv\n",
      "2bow_features_extracted.csv   ADS_A2.ipynb\n",
      "3data_with_bow_features.csv   Assignment#2.ppt\n",
      "4sent_features.csv\t      train_bodies.csv\n",
      "5data_with_sent_features.csv  train_stances.csv\n",
      "6sent_features.csv\n"
     ]
    }
   ],
   "source": [
    "import os\n",
    "from google.colab import drive\n",
    "drive.mount('/content/gdrive')\n",
    "base_dir = './gdrive/My Drive/MS/Sem2/ADS/ADS Assignment 2'\n",
    "os.chdir(base_dir)\n",
    "!ls"
   ]
  },
  {
   "cell_type": "markdown",
   "metadata": {
    "colab_type": "text",
    "id": "FmZEwbg3EqG4"
   },
   "source": [
    "### ========================================================================================"
   ]
  },
  {
   "cell_type": "markdown",
   "metadata": {
    "colab_type": "text",
    "id": "vvElyfnyyrxA"
   },
   "source": [
    "# Load Libraries"
   ]
  },
  {
   "cell_type": "code",
   "execution_count": 2,
   "metadata": {
    "colab": {
     "base_uri": "https://localhost:8080/",
     "height": 246
    },
    "colab_type": "code",
    "executionInfo": {
     "elapsed": 15102,
     "status": "ok",
     "timestamp": 1554371503575,
     "user": {
      "displayName": "syedshahzaib790",
      "photoUrl": "",
      "userId": "11486457633474928120"
     },
     "user_tz": -300
    },
    "id": "ndB3EmgAyq4o",
    "outputId": "f8acede7-ec84-411b-a243-c748f3432059"
   },
   "outputs": [
    {
     "name": "stdout",
     "output_type": "stream",
     "text": [
      "Requirement already satisfied: autocorrect in /usr/local/lib/python3.6/dist-packages (0.3.0)\n",
      "[nltk_data] Downloading package punkt to /root/nltk_data...\n",
      "[nltk_data]   Package punkt is already up-to-date!\n",
      "[nltk_data] Downloading package stopwords to /root/nltk_data...\n",
      "[nltk_data]   Package stopwords is already up-to-date!\n",
      "[nltk_data] Downloading package wordnet to /root/nltk_data...\n",
      "[nltk_data]   Package wordnet is already up-to-date!\n",
      "[nltk_data] Downloading package words to /root/nltk_data...\n",
      "[nltk_data]   Package words is already up-to-date!\n",
      "[nltk_data] Downloading package averaged_perceptron_tagger to\n",
      "[nltk_data]     /root/nltk_data...\n",
      "[nltk_data]   Package averaged_perceptron_tagger is already up-to-\n",
      "[nltk_data]       date!\n"
     ]
    }
   ],
   "source": [
    "!pip install autocorrect\n",
    "\n",
    "import pandas as pd\n",
    "import numpy as np\n",
    "from nltk.stem import PorterStemmer\n",
    "import nltk\n",
    "from nltk.corpus import stopwords\n",
    "from nltk.corpus import words\n",
    "from nltk.corpus import wordnet as wn\n",
    "from string import punctuation\n",
    "from nltk.stem import WordNetLemmatizer \n",
    "from autocorrect import spell\n",
    "  \n",
    "nltk.download('punkt')\n",
    "nltk.download('stopwords')\n",
    "nltk.download('wordnet')\n",
    "nltk.download('words')\n",
    "nltk.download('averaged_perceptron_tagger')\n",
    "\n",
    "\n",
    "words_corpus = nltk.corpus.words.words()\n",
    "\n",
    "lemm = WordNetLemmatizer()\n",
    "ps = PorterStemmer()"
   ]
  },
  {
   "cell_type": "markdown",
   "metadata": {
    "colab_type": "text",
    "id": "8fP2T7plymO6"
   },
   "source": [
    "# Load Dataset"
   ]
  },
  {
   "cell_type": "code",
   "execution_count": 0,
   "metadata": {
    "colab": {},
    "colab_type": "code",
    "id": "6IOlRrO0EGQf"
   },
   "outputs": [],
   "source": [
    "train_bodies = pd.read_csv('train_bodies.csv', encoding='latin-1', skiprows=1)\n",
    "train_stances = pd.read_csv('train_stances.csv', encoding='latin-1', skiprows=1)\n",
    "\n",
    "train_stances.columns = ['headline','body_id','stance']\n",
    "train_bodies.columns = ['body_id','article_body']"
   ]
  },
  {
   "cell_type": "code",
   "execution_count": 0,
   "metadata": {
    "colab": {
     "base_uri": "https://localhost:8080/",
     "height": 34
    },
    "colab_type": "code",
    "executionInfo": {
     "elapsed": 833,
     "status": "ok",
     "timestamp": 1553248080969,
     "user": {
      "displayName": "syedshahzaib790",
      "photoUrl": "",
      "userId": "11486457633474928120"
     },
     "user_tz": -300
    },
    "id": "8FjLLLOoD-Qn",
    "outputId": "c04c5d1e-a5a5-4be8-8d7e-02866226b84a"
   },
   "outputs": [
    {
     "data": {
      "text/plain": [
       "((1685, 2), (49974, 3))"
      ]
     },
     "execution_count": 4,
     "metadata": {
      "tags": []
     },
     "output_type": "execute_result"
    }
   ],
   "source": [
    "train_bodies.shape, train_stances.shape"
   ]
  },
  {
   "cell_type": "code",
   "execution_count": 0,
   "metadata": {
    "colab": {},
    "colab_type": "code",
    "id": "BLst8aAjEAHH"
   },
   "outputs": [],
   "source": [
    "train_bodies = train_bodies.dropna()\n",
    "train_stances = train_stances.dropna()\n",
    "train_bodies['body_id'] = train_bodies.body_id.astype(int)\n",
    "train_stances['body_id'] = train_stances.body_id.astype(int)"
   ]
  },
  {
   "cell_type": "code",
   "execution_count": 0,
   "metadata": {
    "colab": {},
    "colab_type": "code",
    "id": "mi7zdoglNDE_"
   },
   "outputs": [],
   "source": [
    "data = train_stances.merge(train_bodies, how='inner', on=['body_id']).drop_duplicates()"
   ]
  },
  {
   "cell_type": "markdown",
   "metadata": {
    "colab_type": "text",
    "id": "NCB0e3wQyQqI"
   },
   "source": [
    "# Data Preprocessing"
   ]
  },
  {
   "cell_type": "code",
   "execution_count": 0,
   "metadata": {
    "colab": {},
    "colab_type": "code",
    "id": "Kd-G7EJdSuSg"
   },
   "outputs": [],
   "source": [
    "def preprocess_sentences(s):\n",
    "  s = s.lower().encode(encoding='ASCII',errors='ignore').decode()\n",
    "  stop_words_set = list(stopwords.words('english'))\n",
    "  sent_tokenized = list(nltk.word_tokenize(s))\n",
    "  punctuations = list(punctuation)\n",
    "  sent_tokenized =  ['' if w in stop_words_set+punctuations else ps.stem(lemm.lemmatize(w)) for w in sent_tokenized]\n",
    "  \n",
    "\n",
    "  while True:\n",
    "    try:\n",
    "      sent_tokenized.remove('')\n",
    "    except:\n",
    "      break\n",
    "   \n",
    "  return ' '.join(sent_tokenized).strip()"
   ]
  },
  {
   "cell_type": "code",
   "execution_count": 0,
   "metadata": {
    "colab": {},
    "colab_type": "code",
    "id": "iAxkuUftcth7"
   },
   "outputs": [],
   "source": [
    "data.headline = data.headline.apply(lambda x: preprocess_sentences(x))\n",
    "data.article_body = data.article_body.apply(lambda x: preprocess_sentences(x))"
   ]
  },
  {
   "cell_type": "code",
   "execution_count": 0,
   "metadata": {
    "colab": {},
    "colab_type": "code",
    "id": "57jTqkGk3bjR"
   },
   "outputs": [],
   "source": [
    "data.to_csv('1preprocessed_data.csv', index=False)"
   ]
  },
  {
   "cell_type": "markdown",
   "metadata": {
    "colab_type": "text",
    "id": "R4csbexH3lpR"
   },
   "source": [
    "# Features Extraction"
   ]
  },
  {
   "cell_type": "code",
   "execution_count": 0,
   "metadata": {
    "colab": {
     "base_uri": "https://localhost:8080/",
     "height": 34
    },
    "colab_type": "code",
    "executionInfo": {
     "elapsed": 1673,
     "status": "ok",
     "timestamp": 1553334433730,
     "user": {
      "displayName": "syedshahzaib790",
      "photoUrl": "",
      "userId": "11486457633474928120"
     },
     "user_tz": -300
    },
    "id": "-dphuPjm3oIp",
    "outputId": "f0856c2e-d8f8-4498-ad01-d59bfc26c36b"
   },
   "outputs": [
    {
     "data": {
      "text/plain": [
       "(49570, 4)"
      ]
     },
     "execution_count": 23,
     "metadata": {
      "tags": []
     },
     "output_type": "execute_result"
    }
   ],
   "source": [
    "data = pd.read_csv('1preprocessed_data.csv', index_col=False)\n",
    "data.shape"
   ]
  },
  {
   "cell_type": "markdown",
   "metadata": {
    "colab_type": "text",
    "id": "wTMXwGM2JW-r"
   },
   "source": [
    "## Bag of Words"
   ]
  },
  {
   "cell_type": "code",
   "execution_count": 0,
   "metadata": {
    "colab": {},
    "colab_type": "code",
    "id": "_N5-ipQw4eoT"
   },
   "outputs": [],
   "source": [
    "# Bag of Words (BOW)\n",
    "def BOW(headline, article_body):\n",
    "  \n",
    "  \"\"\"\n",
    "  Input:  Headline & Article Body\n",
    "  Return: [No of Common Words, No. of Uncommon Words, Frequency of Common Words]\n",
    "  \"\"\"\n",
    "  \n",
    "  article = nltk.word_tokenize(article_body)\n",
    "  headline = nltk.word_tokenize(headline)\n",
    "\n",
    "  common_words = np.intersect1d(headline, article)\n",
    "\n",
    "  not_common_in_head = np.unique(np.setdiff1d(headline, common_words))\n",
    "  not_common_in_article = np.unique(np.setdiff1d(article, common_words))\n",
    "  not_common_len = not_common_in_head.shape[0] + not_common_in_article.shape[0]\n",
    "\n",
    "  article_series = pd.Series(article)\n",
    "  article_freq = article_series[article_series.isin(common_words)].value_counts().sum()\n",
    "\n",
    "  headline_series = pd.Series(headline)\n",
    "  headline_freq = headline_series[headline_series.isin(common_words)].value_counts().sum()\n",
    "\n",
    "  \n",
    "  return [common_words.shape[0], not_common_len, article_freq+headline_freq]"
   ]
  },
  {
   "cell_type": "code",
   "execution_count": 0,
   "metadata": {
    "colab": {},
    "colab_type": "code",
    "id": "IY7oiyJhCIlD"
   },
   "outputs": [],
   "source": [
    "bow_feature_cols = ['total_common','total_uncommon','total_common_freq']\n",
    "bow_features = pd.DataFrame(data.apply(lambda x: BOW(x['headline'], x['article_body']), axis=1).values.tolist(), columns=bow_feature_cols)\n",
    "bow_features.to_csv('2bow_features_extracted.csv', index=False)"
   ]
  },
  {
   "cell_type": "code",
   "execution_count": 0,
   "metadata": {
    "colab": {},
    "colab_type": "code",
    "id": "QfC6TyXxFXGD"
   },
   "outputs": [],
   "source": [
    "# Combine new features with old ones\n",
    "data = pd.concat([data, bow_features], axis=1)\n",
    "data.to_csv('3data_with_bow_features.csv', index=False)"
   ]
  },
  {
   "cell_type": "markdown",
   "metadata": {
    "colab_type": "text",
    "id": "az-npR-dUaLa"
   },
   "source": [
    "## Sentiment based features"
   ]
  },
  {
   "cell_type": "code",
   "execution_count": 0,
   "metadata": {
    "colab": {
     "base_uri": "https://localhost:8080/",
     "height": 85
    },
    "colab_type": "code",
    "executionInfo": {
     "elapsed": 2549,
     "status": "ok",
     "timestamp": 1553342974165,
     "user": {
      "displayName": "syedshahzaib790",
      "photoUrl": "",
      "userId": "11486457633474928120"
     },
     "user_tz": -300
    },
    "id": "nf3qL5ZvJ0NK",
    "outputId": "551aa42c-fd2b-48d2-9fec-52c55952d4ca"
   },
   "outputs": [
    {
     "data": {
      "text/plain": [
       "((49570, 7),\n",
       " Index(['headline', 'body_id', 'stance', 'article_body', 'total_common',\n",
       "        'total_uncommon', 'total_common_freq'],\n",
       "       dtype='object'))"
      ]
     },
     "execution_count": 4,
     "metadata": {
      "tags": []
     },
     "output_type": "execute_result"
    }
   ],
   "source": [
    "data = pd.read_csv('3data_with_bow_features.csv', index_col=False)\n",
    "data.shape, data.columns"
   ]
  },
  {
   "cell_type": "code",
   "execution_count": 0,
   "metadata": {
    "colab": {
     "base_uri": "https://localhost:8080/",
     "height": 139
    },
    "colab_type": "code",
    "executionInfo": {
     "elapsed": 1406,
     "status": "ok",
     "timestamp": 1553342978041,
     "user": {
      "displayName": "syedshahzaib790",
      "photoUrl": "",
      "userId": "11486457633474928120"
     },
     "user_tz": -300
    },
    "id": "nGUMsfcdUeKL",
    "outputId": "fd094de4-4f14-40a5-e130-95f90efb19bd"
   },
   "outputs": [
    {
     "name": "stdout",
     "output_type": "stream",
     "text": [
      "[nltk_data] Downloading package sentiwordnet to /root/nltk_data...\n",
      "[nltk_data]   Unzipping corpora/sentiwordnet.zip.\n",
      "[nltk_data] Downloading package vader_lexicon to /root/nltk_data...\n"
     ]
    },
    {
     "name": "stderr",
     "output_type": "stream",
     "text": [
      "/usr/local/lib/python3.6/dist-packages/nltk/twitter/__init__.py:20: UserWarning: The twython library has not been installed. Some functionality from the twitter package will not be available.\n",
      "  warnings.warn(\"The twython library has not been installed. \"\n"
     ]
    },
    {
     "data": {
      "text/plain": [
       "True"
      ]
     },
     "execution_count": 5,
     "metadata": {
      "tags": []
     },
     "output_type": "execute_result"
    }
   ],
   "source": [
    "from nltk.corpus import sentiwordnet as swn\n",
    "nltk.download('sentiwordnet')\n",
    "from nltk.sentiment.vader import SentimentIntensityAnalyzer\n",
    "nltk.download('vader_lexicon')"
   ]
  },
  {
   "cell_type": "code",
   "execution_count": 0,
   "metadata": {
    "colab": {},
    "colab_type": "code",
    "id": "u_zI-vkwvtvb"
   },
   "outputs": [],
   "source": [
    "def sentiment_based_features(headline,  article_body):\n",
    "\n",
    "  \"\"\"\n",
    "  Input:  Headline & Article Body\n",
    "  Return: [sentiment score, total positives, total_negatives, positive score, negative score, positive to negative ratio]\n",
    "  \"\"\"\n",
    "\n",
    "  article = nltk.word_tokenize(article_body)\n",
    "  headline = nltk.word_tokenize(headline)\n",
    "\n",
    "  common_words = np.intersect1d(headline, article)\n",
    "  if common_words.shape[0] < 1:\n",
    "    return [0, 0, 0, 0, 0, 0]\n",
    "\n",
    "  sid = SentimentIntensityAnalyzer()\n",
    "  sentiment_values = pd.DataFrame(pd.Series(common_words).apply(lambda x: sid.polarity_scores(x)).values.tolist())\n",
    "\n",
    "  score = sentiment_values['compound'].sum()\n",
    "  total_pos = (sentiment_values['pos'] > 0).sum()\n",
    "  pos_score = sentiment_values['pos'].sum()\n",
    "  total_neg = (sentiment_values['neg'] > 0).sum()\n",
    "  neg_score = sentiment_values['neg'].sum()\n",
    "\n",
    "  pos_ratio = 0\n",
    "  if total_pos+total_neg > 0:\n",
    "    pos_ratio = float(total_pos)/(total_pos+total_neg)\n",
    "\n",
    "\n",
    "  return [score, total_pos, total_neg, pos_score, neg_score, pos_ratio]"
   ]
  },
  {
   "cell_type": "code",
   "execution_count": 0,
   "metadata": {
    "colab": {},
    "colab_type": "code",
    "id": "U6HGVH2lzoGz"
   },
   "outputs": [],
   "source": [
    "sent_features_cols = ['sent_score','total_pos','total_neg','pos_score','neg_score','pos_neg_ratio']\n",
    "sent_features = pd.DataFrame(data.apply(lambda x: sentiment_based_features(x['headline'], x['article_body']), axis=1).values.tolist(), columns=sent_features_cols)"
   ]
  },
  {
   "cell_type": "code",
   "execution_count": 0,
   "metadata": {
    "colab": {},
    "colab_type": "code",
    "id": "QKBLdgVEwkk0"
   },
   "outputs": [],
   "source": [
    "sent_features.to_csv('4sent_features.csv', index=False)"
   ]
  },
  {
   "cell_type": "code",
   "execution_count": 0,
   "metadata": {
    "colab": {},
    "colab_type": "code",
    "id": "I4kOTvVOYPkK"
   },
   "outputs": [],
   "source": [
    "# Combine new features with old ones\n",
    "data = pd.concat([data, sent_features], axis=1)\n",
    "data.to_csv('5data_with_sent_features.csv', index=False)"
   ]
  },
  {
   "cell_type": "markdown",
   "metadata": {
    "colab_type": "text",
    "id": "pc6m-GLFKgYy"
   },
   "source": [
    "## Term Proximity Features"
   ]
  },
  {
   "cell_type": "code",
   "execution_count": 0,
   "metadata": {
    "colab": {
     "base_uri": "https://localhost:8080/",
     "height": 102
    },
    "colab_type": "code",
    "executionInfo": {
     "elapsed": 1390,
     "status": "ok",
     "timestamp": 1553350168021,
     "user": {
      "displayName": "syedshahzaib790",
      "photoUrl": "",
      "userId": "11486457633474928120"
     },
     "user_tz": -300
    },
    "id": "J2p3RMBu4Mjr",
    "outputId": "20c473fb-4461-42c2-bb52-6268f10fd74a"
   },
   "outputs": [
    {
     "data": {
      "text/plain": [
       "((49570, 13),\n",
       " Index(['headline', 'body_id', 'stance', 'article_body', 'total_common',\n",
       "        'total_uncommon', 'total_common_freq', 'sent_score', 'total_pos',\n",
       "        'total_neg', 'pos_score', 'neg_score', 'pos_neg_ratio'],\n",
       "       dtype='object'))"
      ]
     },
     "execution_count": 123,
     "metadata": {
      "tags": []
     },
     "output_type": "execute_result"
    }
   ],
   "source": [
    "data = pd.read_csv('5data_with_sent_features.csv', index_col=False)\n",
    "data.shape, data.columns"
   ]
  },
  {
   "cell_type": "code",
   "execution_count": 0,
   "metadata": {
    "colab": {},
    "colab_type": "code",
    "id": "GvZoXLBs4rTT"
   },
   "outputs": [],
   "source": [
    "\n",
    "def term_proximity_features(headline,  article_body):\n",
    "  \n",
    "  \"\"\"\n",
    "  Input:  Headline & Article Body\n",
    "  Return: [total distance, average distance, minimum distance, maximum distance]\n",
    "  \"\"\"\n",
    "\n",
    "  # article_body = data.article_body.iloc[10]\n",
    "  # headline = data.headline.iloc[10]\n",
    "\n",
    "  article_tokenized = nltk.word_tokenize(article_body)\n",
    "  headline_tokenized = nltk.word_tokenize(headline)\n",
    "\n",
    "  common_words = list(np.intersect1d(headline_tokenized, article_tokenized))\n",
    "  if len(common_words) < 2:\n",
    "    return [10000, 10000, 10000, 10000]\n",
    "\n",
    "  headline_dists = [headline_tokenized.index(w) for w in common_words]\n",
    "  article_dists = [article_tokenized.index(w) for w in common_words]\n",
    "\n",
    "  positions_df = pd.DataFrame([headline_dists, article_dists]).T\n",
    "  positions_df.columns = ['loc_in_head','loc_in_article']\n",
    "  positions_df.index = common_words\n",
    "  positions_df = (positions_df - positions_df.mean()) / (positions_df.max() - positions_df.min())\n",
    "\n",
    "  distances = np.sqrt((positions_df.loc_in_head - positions_df.loc_in_article)**2)\n",
    "  total_distance = distances.sum()\n",
    "  avg_distance = total_distance/distances.shape[0]\n",
    "\n",
    "  return [total_distance, avg_distance, distances.min(), distances.max()]"
   ]
  },
  {
   "cell_type": "code",
   "execution_count": 0,
   "metadata": {
    "colab": {},
    "colab_type": "code",
    "id": "C_svHOSJKj5D"
   },
   "outputs": [],
   "source": [
    "tprox_features_cols = ['total_distance','avg_distance','min_distance','max_distance']\n",
    "tprox_features = pd.DataFrame(data.apply(lambda x: term_proximity_features(x['headline'], x['article_body']), axis=1).values.tolist(), columns=tprox_features_cols)"
   ]
  },
  {
   "cell_type": "code",
   "execution_count": 0,
   "metadata": {
    "colab": {},
    "colab_type": "code",
    "id": "URteahrq_mgs"
   },
   "outputs": [],
   "source": [
    "tprox_features.to_csv('6sent_features.csv', index=False)"
   ]
  },
  {
   "cell_type": "code",
   "execution_count": 0,
   "metadata": {
    "colab": {},
    "colab_type": "code",
    "id": "nfrsJMT-Q3qT"
   },
   "outputs": [],
   "source": [
    "# Combine new features with old ones\n",
    "data = pd.concat([data, tprox_features], axis=1)\n",
    "data.to_csv('7data_with_tprox_features_final.csv', index=False)"
   ]
  },
  {
   "cell_type": "code",
   "execution_count": 0,
   "metadata": {
    "colab": {
     "base_uri": "https://localhost:8080/",
     "height": 34
    },
    "colab_type": "code",
    "executionInfo": {
     "elapsed": 1047,
     "status": "ok",
     "timestamp": 1553356591054,
     "user": {
      "displayName": "syedshahzaib790",
      "photoUrl": "",
      "userId": "11486457633474928120"
     },
     "user_tz": -300
    },
    "id": "q3Kaz903RH8T",
    "outputId": "fcf8c6a6-aebd-4835-cfb4-dcfb6fa50e95"
   },
   "outputs": [
    {
     "data": {
      "text/plain": [
       "(49570, 17)"
      ]
     },
     "execution_count": 248,
     "metadata": {
      "tags": []
     },
     "output_type": "execute_result"
    }
   ],
   "source": [
    "data.shape"
   ]
  },
  {
   "cell_type": "markdown",
   "metadata": {
    "colab_type": "text",
    "id": "WiBOXMLoRLV8"
   },
   "source": [
    "# Implementation of Algorithms - Learning Models"
   ]
  },
  {
   "cell_type": "code",
   "execution_count": 3,
   "metadata": {
    "colab": {
     "base_uri": "https://localhost:8080/",
     "height": 123
    },
    "colab_type": "code",
    "executionInfo": {
     "elapsed": 13358,
     "status": "ok",
     "timestamp": 1554371545975,
     "user": {
      "displayName": "syedshahzaib790",
      "photoUrl": "",
      "userId": "11486457633474928120"
     },
     "user_tz": -300
    },
    "id": "c1KhkhsxRKws",
    "outputId": "ac02dd4a-66af-4cdc-efcd-91348e72474e"
   },
   "outputs": [
    {
     "data": {
      "text/plain": [
       "((49570, 17),\n",
       " Index(['headline', 'body_id', 'stance', 'article_body', 'total_common',\n",
       "        'total_uncommon', 'total_common_freq', 'sent_score', 'total_pos',\n",
       "        'total_neg', 'pos_score', 'neg_score', 'pos_neg_ratio',\n",
       "        'total_distance', 'avg_distance', 'min_distance', 'max_distance'],\n",
       "       dtype='object'))"
      ]
     },
     "execution_count": 3,
     "metadata": {
      "tags": []
     },
     "output_type": "execute_result"
    }
   ],
   "source": [
    "data = pd.read_csv('7data_with_tprox_features_final.csv', index_col=False)\n",
    "data.shape, data.columns"
   ]
  },
  {
   "cell_type": "code",
   "execution_count": 0,
   "metadata": {
    "colab": {},
    "colab_type": "code",
    "id": "xXQyzt7mnc3Q"
   },
   "outputs": [],
   "source": [
    "feat = ['total_common',\n",
    "        'total_uncommon', 'total_common_freq', 'sent_score', 'total_pos',\n",
    "        'total_neg', 'pos_score', 'neg_score', 'pos_neg_ratio',\n",
    "        'total_distance', 'avg_distance', 'min_distance', 'max_distance']\n",
    "label = ['stance']"
   ]
  },
  {
   "cell_type": "code",
   "execution_count": 0,
   "metadata": {
    "colab": {},
    "colab_type": "code",
    "id": "00TGh33erYyz"
   },
   "outputs": [],
   "source": [
    "# data[feat].mean()"
   ]
  },
  {
   "cell_type": "markdown",
   "metadata": {
    "colab_type": "text",
    "id": "lN6bVjAj0D8k"
   },
   "source": [
    "## Normalizing data (Min-Max Normalization)"
   ]
  },
  {
   "cell_type": "code",
   "execution_count": 0,
   "metadata": {
    "colab": {},
    "colab_type": "code",
    "id": "FO-ntnqmn8h9"
   },
   "outputs": [],
   "source": [
    "norm_data = (data[feat]-data[feat].mean())/(data[feat].max() - data[feat].min())\n",
    "norm_data.shape"
   ]
  },
  {
   "cell_type": "code",
   "execution_count": 0,
   "metadata": {
    "cellView": "form",
    "colab": {
     "base_uri": "https://localhost:8080/",
     "height": 35
    },
    "colab_type": "code",
    "executionInfo": {
     "elapsed": 2511,
     "status": "ok",
     "timestamp": 1554370261933,
     "user": {
      "displayName": "syedshahzaib790",
      "photoUrl": "",
      "userId": "11486457633474928120"
     },
     "user_tz": -300
    },
    "id": "yrDVajrBrrPK",
    "outputId": "7feb76f1-7dd2-4783-d897-840a93c2e972"
   },
   "outputs": [
    {
     "data": {
      "text/plain": [
       "(49570, 13)"
      ]
     },
     "execution_count": 14,
     "metadata": {
      "tags": []
     },
     "output_type": "execute_result"
    }
   ],
   "source": [
    "#@title Default title text\n"
   ]
  },
  {
   "cell_type": "markdown",
   "metadata": {
    "colab_type": "text",
    "id": "qRfF3I4iz6kC"
   },
   "source": [
    "## Encoding Labels (i.e. converting to numeric)"
   ]
  },
  {
   "cell_type": "code",
   "execution_count": 6,
   "metadata": {
    "colab": {
     "base_uri": "https://localhost:8080/",
     "height": 107
    },
    "colab_type": "code",
    "executionInfo": {
     "elapsed": 2651,
     "status": "ok",
     "timestamp": 1554371581646,
     "user": {
      "displayName": "syedshahzaib790",
      "photoUrl": "",
      "userId": "11486457633474928120"
     },
     "user_tz": -300
    },
    "id": "hC-S8pEptOcK",
    "outputId": "19e5be8b-007d-42b8-8d0f-55fbcd53b440"
   },
   "outputs": [
    {
     "name": "stderr",
     "output_type": "stream",
     "text": [
      "/usr/local/lib/python3.6/dist-packages/sklearn/preprocessing/label.py:219: DataConversionWarning: A column-vector y was passed when a 1d array was expected. Please change the shape of y to (n_samples, ), for example using ravel().\n",
      "  y = column_or_1d(y, warn=True)\n",
      "/usr/local/lib/python3.6/dist-packages/sklearn/preprocessing/label.py:252: DataConversionWarning: A column-vector y was passed when a 1d array was expected. Please change the shape of y to (n_samples, ), for example using ravel().\n",
      "  y = column_or_1d(y, warn=True)\n"
     ]
    }
   ],
   "source": [
    "from sklearn.model_selection import train_test_split\n",
    "from sklearn import preprocessing\n",
    "le = preprocessing.LabelEncoder()\n",
    "le.fit(data[label].values)\n",
    "data[label] = list(le.transform(data[label].values))"
   ]
  },
  {
   "cell_type": "code",
   "execution_count": 9,
   "metadata": {
    "colab": {
     "base_uri": "https://localhost:8080/",
     "height": 35
    },
    "colab_type": "code",
    "executionInfo": {
     "elapsed": 2514,
     "status": "ok",
     "timestamp": 1554371620301,
     "user": {
      "displayName": "syedshahzaib790",
      "photoUrl": "",
      "userId": "11486457633474928120"
     },
     "user_tz": -300
    },
    "id": "kyUFfM4jxDDg",
    "outputId": "99629041-f18c-490b-ae36-937e9d93b0ee"
   },
   "outputs": [
    {
     "data": {
      "text/plain": [
       "array([3, 2, 3, ..., 0, 2, 2])"
      ]
     },
     "execution_count": 9,
     "metadata": {
      "tags": []
     },
     "output_type": "execute_result"
    }
   ],
   "source": []
  },
  {
   "cell_type": "markdown",
   "metadata": {
    "colab_type": "text",
    "id": "6JlM8uJozuHO"
   },
   "source": [
    "## Train Test Split (70-30 ratio)"
   ]
  },
  {
   "cell_type": "code",
   "execution_count": 0,
   "metadata": {
    "colab": {},
    "colab_type": "code",
    "id": "fdwcfYdMtXdg"
   },
   "outputs": [],
   "source": [
    "X_train, X_test, y_train, y_test = train_test_split(norm_data, data[label].stance.values , test_size=0.30, random_state=42, stratify = data[label].stance.values)"
   ]
  },
  {
   "cell_type": "code",
   "execution_count": 23,
   "metadata": {
    "colab": {
     "base_uri": "https://localhost:8080/",
     "height": 35
    },
    "colab_type": "code",
    "executionInfo": {
     "elapsed": 2112,
     "status": "ok",
     "timestamp": 1554372325667,
     "user": {
      "displayName": "syedshahzaib790",
      "photoUrl": "",
      "userId": "11486457633474928120"
     },
     "user_tz": -300
    },
    "id": "4c8UusQzz0Y_",
    "outputId": "34e62430-ef0b-4396-e0ab-3b717123650f"
   },
   "outputs": [
    {
     "data": {
      "text/plain": [
       "((34699, 13), (14871, 13))"
      ]
     },
     "execution_count": 23,
     "metadata": {
      "tags": []
     },
     "output_type": "execute_result"
    }
   ],
   "source": [
    "X_train.shape, X_test.shape"
   ]
  },
  {
   "cell_type": "markdown",
   "metadata": {
    "colab_type": "text",
    "id": "iGZKn-wKRbRM"
   },
   "source": [
    "## K Nearest Neighbor"
   ]
  },
  {
   "cell_type": "code",
   "execution_count": 0,
   "metadata": {
    "colab": {},
    "colab_type": "code",
    "id": "VgRhMrYFsGYU"
   },
   "outputs": [],
   "source": [
    "from sklearn.neighbors import KNeighborsClassifier"
   ]
  },
  {
   "cell_type": "code",
   "execution_count": 13,
   "metadata": {
    "colab": {
     "base_uri": "https://localhost:8080/",
     "height": 35
    },
    "colab_type": "code",
    "executionInfo": {
     "elapsed": 2899,
     "status": "ok",
     "timestamp": 1554371724628,
     "user": {
      "displayName": "syedshahzaib790",
      "photoUrl": "",
      "userId": "11486457633474928120"
     },
     "user_tz": -300
    },
    "id": "4AeFjcKrskPP",
    "outputId": "d9bc6805-ddf2-4762-89a1-06685351bb06"
   },
   "outputs": [
    {
     "data": {
      "text/plain": [
       "0.858920045726582"
      ]
     },
     "execution_count": 13,
     "metadata": {
      "tags": []
     },
     "output_type": "execute_result"
    }
   ],
   "source": [
    "knn_model = KNeighborsClassifier(n_neighbors=3)\n",
    "knn_model.fit(X_train, y_train)\n",
    "knn_model.score(X_test, y_test)"
   ]
  },
  {
   "cell_type": "markdown",
   "metadata": {
    "colab_type": "text",
    "id": "prFATzuMRk7j"
   },
   "source": [
    "## Decision Tree"
   ]
  },
  {
   "cell_type": "code",
   "execution_count": 0,
   "metadata": {
    "colab": {},
    "colab_type": "code",
    "id": "a29c1vzHxoW9"
   },
   "outputs": [],
   "source": [
    "from sklearn.tree import DecisionTreeClassifier"
   ]
  },
  {
   "cell_type": "code",
   "execution_count": 16,
   "metadata": {
    "colab": {
     "base_uri": "https://localhost:8080/",
     "height": 35
    },
    "colab_type": "code",
    "executionInfo": {
     "elapsed": 2009,
     "status": "ok",
     "timestamp": 1554371910300,
     "user": {
      "displayName": "syedshahzaib790",
      "photoUrl": "",
      "userId": "11486457633474928120"
     },
     "user_tz": -300
    },
    "id": "Vb_nbilKx2uc",
    "outputId": "752d76ba-2cb4-40ff-e409-f1cb652b40c3"
   },
   "outputs": [
    {
     "data": {
      "text/plain": [
       "0.8494385044717907"
      ]
     },
     "execution_count": 16,
     "metadata": {
      "tags": []
     },
     "output_type": "execute_result"
    }
   ],
   "source": [
    "tree_model = DecisionTreeClassifier()\n",
    "tree_model.fit(X_train, y_train)\n",
    "tree_model.score(X_test, y_test)"
   ]
  },
  {
   "cell_type": "markdown",
   "metadata": {
    "colab_type": "text",
    "id": "ayr-CnWuRnMs"
   },
   "source": [
    "## Random Forest"
   ]
  },
  {
   "cell_type": "code",
   "execution_count": 0,
   "metadata": {
    "colab": {},
    "colab_type": "code",
    "id": "9RZUo9NYyTZT"
   },
   "outputs": [],
   "source": [
    "from sklearn.ensemble import RandomForestClassifier"
   ]
  },
  {
   "cell_type": "code",
   "execution_count": 20,
   "metadata": {
    "colab": {
     "base_uri": "https://localhost:8080/",
     "height": 35
    },
    "colab_type": "code",
    "executionInfo": {
     "elapsed": 2968,
     "status": "ok",
     "timestamp": 1554372164167,
     "user": {
      "displayName": "syedshahzaib790",
      "photoUrl": "",
      "userId": "11486457633474928120"
     },
     "user_tz": -300
    },
    "id": "7yMmqaq-yZ7g",
    "outputId": "a8ce5c5f-b154-4c52-8ef0-60beb477a7b2"
   },
   "outputs": [
    {
     "data": {
      "text/plain": [
       "0.8768744536345908"
      ]
     },
     "execution_count": 20,
     "metadata": {
      "tags": []
     },
     "output_type": "execute_result"
    }
   ],
   "source": [
    "model = RandomForestClassifier(n_estimators=20)\n",
    "model.fit(X_train, y_train)\n",
    "model.score(X_test, y_test)"
   ]
  },
  {
   "cell_type": "markdown",
   "metadata": {
    "colab_type": "text",
    "id": "qZaomtFeRs3_"
   },
   "source": [
    "## Neural Networks"
   ]
  },
  {
   "cell_type": "code",
   "execution_count": 0,
   "metadata": {
    "colab": {},
    "colab_type": "code",
    "id": "KGRbA7wMRajk"
   },
   "outputs": [],
   "source": [
    "from sklearn.neural_network import MLPClassifier"
   ]
  },
  {
   "cell_type": "code",
   "execution_count": 22,
   "metadata": {
    "colab": {
     "base_uri": "https://localhost:8080/",
     "height": 35
    },
    "colab_type": "code",
    "executionInfo": {
     "elapsed": 2588,
     "status": "ok",
     "timestamp": 1554372271455,
     "user": {
      "displayName": "syedshahzaib790",
      "photoUrl": "",
      "userId": "11486457633474928120"
     },
     "user_tz": -300
    },
    "id": "5XwJ77EnzhHK",
    "outputId": "4e2a631a-47a0-4053-c63b-7d28b541e59d"
   },
   "outputs": [
    {
     "data": {
      "text/plain": [
       "0.8743191446439379"
      ]
     },
     "execution_count": 22,
     "metadata": {
      "tags": []
     },
     "output_type": "execute_result"
    }
   ],
   "source": [
    "clf = MLPClassifier(solver='lbfgs', alpha=1e-5, hidden_layer_sizes=(5, 2), random_state=1)\n",
    "model.fit(X_train, y_train)\n",
    "model.score(X_test, y_test)"
   ]
  }
 ],
 "metadata": {
  "colab": {
   "collapsed_sections": [],
   "name": "ADS_A2.ipynb",
   "provenance": [],
   "version": "0.3.2"
  },
  "kernelspec": {
   "display_name": "Python 3",
   "language": "python",
   "name": "python3"
  },
  "language_info": {
   "codemirror_mode": {
    "name": "ipython",
    "version": 3
   },
   "file_extension": ".py",
   "mimetype": "text/x-python",
   "name": "python",
   "nbconvert_exporter": "python",
   "pygments_lexer": "ipython3",
   "version": "3.7.6"
  }
 },
 "nbformat": 4,
 "nbformat_minor": 1
}
